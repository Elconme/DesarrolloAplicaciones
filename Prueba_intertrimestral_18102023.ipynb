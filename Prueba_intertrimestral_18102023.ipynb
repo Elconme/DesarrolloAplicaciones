{
  "cells": [
    {
      "cell_type": "markdown",
      "metadata": {
        "id": "xoyr7F7GNiM6"
      },
      "source": [
        "# Prueba Intertrimestral\n",
        "\n",
        "**Nombre:** Elena \n",
        "\n",
        "**Apellidos:** Conderana Medem\n",
        "\n",
        "**Tiempo de la prueba: 2 Horas**\n",
        "\n",
        "**Asignatura:** Desarrollo de Aplicaciones para la Visualización de Datos\n",
        "\n",
        "**Fecha:** 18 de octubre de 2023\n",
        "\n",
        "**Instrucciones:**\n",
        "\n",
        "- Escribe código limpio y autoexplicativo.\n",
        "\n",
        "- Se eliminará 0.5 puntos por usar Seaborn o Matplotlib.\n",
        "\n",
        "- Se pueden utilizar los materiales de clase.\n",
        "\n",
        "- Se puede utilizar internet para búsqueda de dudas y documentación.\n",
        "\n",
        "- No se puede utilizar ningún tipo de LLM.\n",
        "\n",
        "- No se puede utilizar mensajería instantánea.\n",
        "\n",
        "- Sube tus resultados a tu repositorio de Github.\n",
        "\n",
        "- Imprime una versión en PDF en A3 y Portrait del notebook.\n",
        "\n",
        "- Envialo tus resultados a dmartincorral@icai.comillas.edu adjuntando el PDF y la url del notebook subido al repositorio de Github.\n"
      ]
    },
    {
      "cell_type": "markdown",
      "metadata": {
        "id": "_yd5v77lO4fW"
      },
      "source": [
        "## Inicialización de librerías\n",
        "\n",
        "Carga aquí todas las librerías que vayas a utilizar."
      ]
    },
    {
      "cell_type": "code",
      "execution_count": 63,
      "metadata": {
        "id": "xCJ9wLIePA99"
      },
      "outputs": [],
      "source": [
        "import pandas as pd\n",
        "import numpy as np\n",
        "import matplotlib.pyplot as plt\n",
        "import seaborn as sns\n",
        "from sklearn.datasets import fetch_california_housing\n",
        "from sklearn.model_selection import train_test_split"
      ]
    },
    {
      "cell_type": "markdown",
      "metadata": {
        "id": "-DcUj8fKPD19"
      },
      "source": [
        "## Ejercicio 1 (2 puntos):"
      ]
    },
    {
      "cell_type": "markdown",
      "metadata": {},
      "source": [
        "a) Crea una función que calcule y devuelva el factorial de un número entero. **(0.6 puntos)**"
      ]
    },
    {
      "cell_type": "code",
      "execution_count": 3,
      "metadata": {
        "id": "IaPhSsDoSBL-"
      },
      "outputs": [
        {
          "data": {
            "text/plain": [
              "120"
            ]
          },
          "execution_count": 3,
          "metadata": {},
          "output_type": "execute_result"
        }
      ],
      "source": [
        "def factorial(numero):\n",
        "    if type(numero) == int:\n",
        "        resultado = 1\n",
        "        while numero > 0:\n",
        "            resultado = resultado * numero\n",
        "            numero = numero-1\n",
        "    else:\n",
        "        raise Exception('Not integer')\n",
        "    return resultado\n",
        "\n",
        "factorial(5)"
      ]
    },
    {
      "cell_type": "markdown",
      "metadata": {},
      "source": [
        "b) Crea una función que verifique si un número es primo o no. **(0.6 puntos)**"
      ]
    },
    {
      "cell_type": "code",
      "execution_count": 4,
      "metadata": {},
      "outputs": [
        {
          "data": {
            "text/plain": [
              "True"
            ]
          },
          "execution_count": 4,
          "metadata": {},
          "output_type": "execute_result"
        }
      ],
      "source": [
        "def es_primo(numero):\n",
        "    for i in range(2,numero):\n",
        "        if (numero % i) == 0:\n",
        "            return False\n",
        "    return True\n",
        "\n",
        "es_primo(5)"
      ]
    },
    {
      "cell_type": "markdown",
      "metadata": {},
      "source": [
        "c) Muestra en un dataframe los 50 primeros números positivos, si es primo y su factorial utilizando las funciones anteriores. **(0.6 puntos)**"
      ]
    },
    {
      "cell_type": "code",
      "execution_count": 5,
      "metadata": {
        "id": "2Aiag2OvUDJF"
      },
      "outputs": [
        {
          "data": {
            "text/html": [
              "<div>\n",
              "<style scoped>\n",
              "    .dataframe tbody tr th:only-of-type {\n",
              "        vertical-align: middle;\n",
              "    }\n",
              "\n",
              "    .dataframe tbody tr th {\n",
              "        vertical-align: top;\n",
              "    }\n",
              "\n",
              "    .dataframe thead th {\n",
              "        text-align: right;\n",
              "    }\n",
              "</style>\n",
              "<table border=\"1\" class=\"dataframe\">\n",
              "  <thead>\n",
              "    <tr style=\"text-align: right;\">\n",
              "      <th></th>\n",
              "      <th>numero</th>\n",
              "      <th>es_primo</th>\n",
              "      <th>factorial</th>\n",
              "    </tr>\n",
              "  </thead>\n",
              "  <tbody>\n",
              "    <tr>\n",
              "      <th>0</th>\n",
              "      <td>0</td>\n",
              "      <td>True</td>\n",
              "      <td>1</td>\n",
              "    </tr>\n",
              "    <tr>\n",
              "      <th>1</th>\n",
              "      <td>1</td>\n",
              "      <td>True</td>\n",
              "      <td>1</td>\n",
              "    </tr>\n",
              "    <tr>\n",
              "      <th>2</th>\n",
              "      <td>2</td>\n",
              "      <td>True</td>\n",
              "      <td>2</td>\n",
              "    </tr>\n",
              "    <tr>\n",
              "      <th>3</th>\n",
              "      <td>3</td>\n",
              "      <td>True</td>\n",
              "      <td>6</td>\n",
              "    </tr>\n",
              "    <tr>\n",
              "      <th>4</th>\n",
              "      <td>4</td>\n",
              "      <td>False</td>\n",
              "      <td>24</td>\n",
              "    </tr>\n",
              "  </tbody>\n",
              "</table>\n",
              "</div>"
            ],
            "text/plain": [
              "   numero  es_primo factorial\n",
              "0       0      True         1\n",
              "1       1      True         1\n",
              "2       2      True         2\n",
              "3       3      True         6\n",
              "4       4     False        24"
            ]
          },
          "execution_count": 5,
          "metadata": {},
          "output_type": "execute_result"
        }
      ],
      "source": [
        "df = pd.DataFrame(range(51), columns=['numero'])\n",
        "df['es_primo'] = df['numero'].apply(es_primo)\n",
        "df['factorial'] = df['numero'].apply(factorial)\n",
        "df.head()"
      ]
    },
    {
      "cell_type": "markdown",
      "metadata": {},
      "source": [
        "d) ¿Cómo se podría programar en una clase las tres operaciones anteriores? **(0.2 puntos)**"
      ]
    },
    {
      "cell_type": "code",
      "execution_count": 6,
      "metadata": {},
      "outputs": [
        {
          "data": {
            "text/plain": [
              "True"
            ]
          },
          "execution_count": 6,
          "metadata": {},
          "output_type": "execute_result"
        }
      ],
      "source": [
        "class operaciones():\n",
        "\n",
        "    def __init__(self, numero):\n",
        "        self.numero = numero\n",
        "\n",
        "    def es_primo(self):\n",
        "        for i in range(2,self.numero):\n",
        "            if (self.numero % i) == 0:\n",
        "                return False\n",
        "        return True\n",
        "    \n",
        "    def factorial(self):\n",
        "        if type(self.numero) == int:\n",
        "            resultado = 1\n",
        "            while self.numero > 0:\n",
        "                resultado = resultado * self.numero\n",
        "                self.numero = self.numero-1\n",
        "        else:\n",
        "            raise Exception('Not integer')\n",
        "        return resultado\n",
        "        \n",
        "\n",
        "num = operaciones(5)\n",
        "num.factorial()\n",
        "num.es_primo()\n"
      ]
    },
    {
      "cell_type": "markdown",
      "metadata": {},
      "source": [
        "## Ejercicio 2 (4 puntos):\n",
        "\n",
        "a) Extrae de sklearn el conjunto de datos __California Housing dataset__\n",
        " y transfórmalo a dataframe de pandas **(0.25 puntos)**\n"
      ]
    },
    {
      "cell_type": "code",
      "execution_count": 57,
      "metadata": {},
      "outputs": [
        {
          "data": {
            "text/html": [
              "<div>\n",
              "<style scoped>\n",
              "    .dataframe tbody tr th:only-of-type {\n",
              "        vertical-align: middle;\n",
              "    }\n",
              "\n",
              "    .dataframe tbody tr th {\n",
              "        vertical-align: top;\n",
              "    }\n",
              "\n",
              "    .dataframe thead th {\n",
              "        text-align: right;\n",
              "    }\n",
              "</style>\n",
              "<table border=\"1\" class=\"dataframe\">\n",
              "  <thead>\n",
              "    <tr style=\"text-align: right;\">\n",
              "      <th></th>\n",
              "      <th>MedInc</th>\n",
              "      <th>HouseAge</th>\n",
              "      <th>AveRooms</th>\n",
              "      <th>AveBedrms</th>\n",
              "      <th>Population</th>\n",
              "      <th>AveOccup</th>\n",
              "      <th>Latitude</th>\n",
              "      <th>Longitude</th>\n",
              "      <th>target</th>\n",
              "    </tr>\n",
              "  </thead>\n",
              "  <tbody>\n",
              "    <tr>\n",
              "      <th>0</th>\n",
              "      <td>8.3252</td>\n",
              "      <td>41.0</td>\n",
              "      <td>6.984127</td>\n",
              "      <td>1.023810</td>\n",
              "      <td>322.0</td>\n",
              "      <td>2.555556</td>\n",
              "      <td>37.88</td>\n",
              "      <td>-122.23</td>\n",
              "      <td>4.526</td>\n",
              "    </tr>\n",
              "    <tr>\n",
              "      <th>1</th>\n",
              "      <td>8.3014</td>\n",
              "      <td>21.0</td>\n",
              "      <td>6.238137</td>\n",
              "      <td>0.971880</td>\n",
              "      <td>2401.0</td>\n",
              "      <td>2.109842</td>\n",
              "      <td>37.86</td>\n",
              "      <td>-122.22</td>\n",
              "      <td>3.585</td>\n",
              "    </tr>\n",
              "    <tr>\n",
              "      <th>2</th>\n",
              "      <td>7.2574</td>\n",
              "      <td>52.0</td>\n",
              "      <td>8.288136</td>\n",
              "      <td>1.073446</td>\n",
              "      <td>496.0</td>\n",
              "      <td>2.802260</td>\n",
              "      <td>37.85</td>\n",
              "      <td>-122.24</td>\n",
              "      <td>3.521</td>\n",
              "    </tr>\n",
              "    <tr>\n",
              "      <th>3</th>\n",
              "      <td>5.6431</td>\n",
              "      <td>52.0</td>\n",
              "      <td>5.817352</td>\n",
              "      <td>1.073059</td>\n",
              "      <td>558.0</td>\n",
              "      <td>2.547945</td>\n",
              "      <td>37.85</td>\n",
              "      <td>-122.25</td>\n",
              "      <td>3.413</td>\n",
              "    </tr>\n",
              "    <tr>\n",
              "      <th>4</th>\n",
              "      <td>3.8462</td>\n",
              "      <td>52.0</td>\n",
              "      <td>6.281853</td>\n",
              "      <td>1.081081</td>\n",
              "      <td>565.0</td>\n",
              "      <td>2.181467</td>\n",
              "      <td>37.85</td>\n",
              "      <td>-122.25</td>\n",
              "      <td>3.422</td>\n",
              "    </tr>\n",
              "    <tr>\n",
              "      <th>...</th>\n",
              "      <td>...</td>\n",
              "      <td>...</td>\n",
              "      <td>...</td>\n",
              "      <td>...</td>\n",
              "      <td>...</td>\n",
              "      <td>...</td>\n",
              "      <td>...</td>\n",
              "      <td>...</td>\n",
              "      <td>...</td>\n",
              "    </tr>\n",
              "    <tr>\n",
              "      <th>20635</th>\n",
              "      <td>1.5603</td>\n",
              "      <td>25.0</td>\n",
              "      <td>5.045455</td>\n",
              "      <td>1.133333</td>\n",
              "      <td>845.0</td>\n",
              "      <td>2.560606</td>\n",
              "      <td>39.48</td>\n",
              "      <td>-121.09</td>\n",
              "      <td>0.781</td>\n",
              "    </tr>\n",
              "    <tr>\n",
              "      <th>20636</th>\n",
              "      <td>2.5568</td>\n",
              "      <td>18.0</td>\n",
              "      <td>6.114035</td>\n",
              "      <td>1.315789</td>\n",
              "      <td>356.0</td>\n",
              "      <td>3.122807</td>\n",
              "      <td>39.49</td>\n",
              "      <td>-121.21</td>\n",
              "      <td>0.771</td>\n",
              "    </tr>\n",
              "    <tr>\n",
              "      <th>20637</th>\n",
              "      <td>1.7000</td>\n",
              "      <td>17.0</td>\n",
              "      <td>5.205543</td>\n",
              "      <td>1.120092</td>\n",
              "      <td>1007.0</td>\n",
              "      <td>2.325635</td>\n",
              "      <td>39.43</td>\n",
              "      <td>-121.22</td>\n",
              "      <td>0.923</td>\n",
              "    </tr>\n",
              "    <tr>\n",
              "      <th>20638</th>\n",
              "      <td>1.8672</td>\n",
              "      <td>18.0</td>\n",
              "      <td>5.329513</td>\n",
              "      <td>1.171920</td>\n",
              "      <td>741.0</td>\n",
              "      <td>2.123209</td>\n",
              "      <td>39.43</td>\n",
              "      <td>-121.32</td>\n",
              "      <td>0.847</td>\n",
              "    </tr>\n",
              "    <tr>\n",
              "      <th>20639</th>\n",
              "      <td>2.3886</td>\n",
              "      <td>16.0</td>\n",
              "      <td>5.254717</td>\n",
              "      <td>1.162264</td>\n",
              "      <td>1387.0</td>\n",
              "      <td>2.616981</td>\n",
              "      <td>39.37</td>\n",
              "      <td>-121.24</td>\n",
              "      <td>0.894</td>\n",
              "    </tr>\n",
              "  </tbody>\n",
              "</table>\n",
              "<p>20640 rows × 9 columns</p>\n",
              "</div>"
            ],
            "text/plain": [
              "       MedInc  HouseAge  AveRooms  AveBedrms  Population  AveOccup  Latitude  \\\n",
              "0      8.3252      41.0  6.984127   1.023810       322.0  2.555556     37.88   \n",
              "1      8.3014      21.0  6.238137   0.971880      2401.0  2.109842     37.86   \n",
              "2      7.2574      52.0  8.288136   1.073446       496.0  2.802260     37.85   \n",
              "3      5.6431      52.0  5.817352   1.073059       558.0  2.547945     37.85   \n",
              "4      3.8462      52.0  6.281853   1.081081       565.0  2.181467     37.85   \n",
              "...       ...       ...       ...        ...         ...       ...       ...   \n",
              "20635  1.5603      25.0  5.045455   1.133333       845.0  2.560606     39.48   \n",
              "20636  2.5568      18.0  6.114035   1.315789       356.0  3.122807     39.49   \n",
              "20637  1.7000      17.0  5.205543   1.120092      1007.0  2.325635     39.43   \n",
              "20638  1.8672      18.0  5.329513   1.171920       741.0  2.123209     39.43   \n",
              "20639  2.3886      16.0  5.254717   1.162264      1387.0  2.616981     39.37   \n",
              "\n",
              "       Longitude  target  \n",
              "0        -122.23   4.526  \n",
              "1        -122.22   3.585  \n",
              "2        -122.24   3.521  \n",
              "3        -122.25   3.413  \n",
              "4        -122.25   3.422  \n",
              "...          ...     ...  \n",
              "20635    -121.09   0.781  \n",
              "20636    -121.21   0.771  \n",
              "20637    -121.22   0.923  \n",
              "20638    -121.32   0.847  \n",
              "20639    -121.24   0.894  \n",
              "\n",
              "[20640 rows x 9 columns]"
            ]
          },
          "execution_count": 57,
          "metadata": {},
          "output_type": "execute_result"
        }
      ],
      "source": [
        "data = fetch_california_housing()\n",
        "dataset = pd.DataFrame(data = data['data'], columns = data['feature_names'])\n",
        "dataset[\"target\"] = data[\"target\"]\n",
        "dataset"
      ]
    },
    {
      "cell_type": "markdown",
      "metadata": {},
      "source": [
        "\n",
        "b) Construye una función que muestra la estructura del dataset, el número de NAs, tipos de variables y estadísticas básicas de cada una de las variables. **(0.5 puntos)**\n"
      ]
    },
    {
      "cell_type": "code",
      "execution_count": 61,
      "metadata": {},
      "outputs": [
        {
          "name": "stdout",
          "output_type": "stream",
          "text": [
            "Estructura del dataset:\n",
            "   MedInc  HouseAge  AveRooms  AveBedrms  Population  AveOccup  Latitude  \\\n",
            "0  8.3252      41.0  6.984127   1.023810       322.0  2.555556     37.88   \n",
            "1  8.3014      21.0  6.238137   0.971880      2401.0  2.109842     37.86   \n",
            "2  7.2574      52.0  8.288136   1.073446       496.0  2.802260     37.85   \n",
            "3  5.6431      52.0  5.817352   1.073059       558.0  2.547945     37.85   \n",
            "4  3.8462      52.0  6.281853   1.081081       565.0  2.181467     37.85   \n",
            "\n",
            "   Longitude  target  \n",
            "0    -122.23   4.526  \n",
            "1    -122.22   3.585  \n",
            "2    -122.24   3.521  \n",
            "3    -122.25   3.413  \n",
            "4    -122.25   3.422  \n",
            "NAs del dataset:\n",
            "MedInc        0\n",
            "HouseAge      0\n",
            "AveRooms      0\n",
            "AveBedrms     0\n",
            "Population    0\n",
            "AveOccup      0\n",
            "Latitude      0\n",
            "Longitude     0\n",
            "target        0\n",
            "dtype: int64\n",
            "Tipo de las variables:\n",
            "MedInc        float64\n",
            "HouseAge      float64\n",
            "AveRooms      float64\n",
            "AveBedrms     float64\n",
            "Population    float64\n",
            "AveOccup      float64\n",
            "Latitude      float64\n",
            "Longitude     float64\n",
            "target        float64\n",
            "dtype: object\n",
            "Estadísticas variables:\n",
            "             MedInc      HouseAge      AveRooms     AveBedrms    Population  \\\n",
            "count  20640.000000  20640.000000  20640.000000  20640.000000  20640.000000   \n",
            "mean       3.870671     28.639486      5.429000      1.096675   1425.476744   \n",
            "std        1.899822     12.585558      2.474173      0.473911   1132.462122   \n",
            "min        0.499900      1.000000      0.846154      0.333333      3.000000   \n",
            "25%        2.563400     18.000000      4.440716      1.006079    787.000000   \n",
            "50%        3.534800     29.000000      5.229129      1.048780   1166.000000   \n",
            "75%        4.743250     37.000000      6.052381      1.099526   1725.000000   \n",
            "max       15.000100     52.000000    141.909091     34.066667  35682.000000   \n",
            "\n",
            "           AveOccup      Latitude     Longitude        target  \n",
            "count  20640.000000  20640.000000  20640.000000  20640.000000  \n",
            "mean       3.070655     35.631861   -119.569704      2.068558  \n",
            "std       10.386050      2.135952      2.003532      1.153956  \n",
            "min        0.692308     32.540000   -124.350000      0.149990  \n",
            "25%        2.429741     33.930000   -121.800000      1.196000  \n",
            "50%        2.818116     34.260000   -118.490000      1.797000  \n",
            "75%        3.282261     37.710000   -118.010000      2.647250  \n",
            "max     1243.333333     41.950000   -114.310000      5.000010  \n"
          ]
        }
      ],
      "source": [
        "def info_dataset(df):\n",
        "    print('Estructura del dataset:')\n",
        "    print(df.head())\n",
        "    print('NAs del dataset:')\n",
        "    print(df.isna().sum())\n",
        "    print('Tipo de las variables:')\n",
        "    print(df.dtypes)\n",
        "    print('Estadísticas variables:')\n",
        "    print(df.describe())\n",
        "\n",
        "info_dataset(dataset)"
      ]
    },
    {
      "cell_type": "markdown",
      "metadata": {},
      "source": [
        "\n",
        "c) Construye una __Regresión lineal__ y un __Random forest__ que predigan el __Median house value__ según los datos disponibles. **(0.75 puntos)**\n",
        "\n"
      ]
    },
    {
      "cell_type": "code",
      "execution_count": 65,
      "metadata": {},
      "outputs": [],
      "source": [
        "X = data[\"data\"]\n",
        "y = data[\"target\"]\n",
        "\n",
        "X_train, X_test, y_train, y_test = train_test_split(X, y, test_size = 0.25, random_state = 123)"
      ]
    },
    {
      "cell_type": "code",
      "execution_count": 79,
      "metadata": {},
      "outputs": [
        {
          "name": "stdout",
          "output_type": "stream",
          "text": [
            "Variance explanation R^2 = 0.61\n",
            "Mean squared error: 0.52\n",
            "Coefficient of determination: 0.61\n"
          ]
        }
      ],
      "source": [
        "# Regresión logística\n",
        "from sklearn.metrics import r2_score\n",
        "from sklearn.linear_model import LinearRegression\n",
        "from sklearn.metrics import classification_report, confusion_matrix, mean_squared_error\n",
        "\n",
        "regr = LinearRegression().fit(X_train, y_train)\n",
        "\n",
        "print(\"Variance explanation R^2 = {}\".format(round(regr.score(X, y),2)))\n",
        "\n",
        "# Make predictions using the testing set\n",
        "y_pred = regr.predict(X_test)\n",
        "\n",
        "# The mean squared error\n",
        "print(\"Mean squared error: %.2f\" % mean_squared_error(y_test, y_pred))\n",
        "# The coefficient of determination: 1 is perfect prediction\n",
        "print(\"Coefficient of determination: %.2f\" % r2_score(y_test, y_pred))"
      ]
    },
    {
      "cell_type": "code",
      "execution_count": 84,
      "metadata": {},
      "outputs": [
        {
          "name": "stdout",
          "output_type": "stream",
          "text": [
            "Variance explanation R^2 = 0.72\n",
            "Mean squared error: 0.40\n",
            "Coefficient of determination: 0.70\n"
          ]
        }
      ],
      "source": [
        "from sklearn.ensemble import RandomForestRegressor\n",
        "from sklearn.datasets import make_regression\n",
        "#X, y = make_regression(n_features=4, n_informative=2,\n",
        "#                       random_state=0, shuffle=False)\n",
        "rf = RandomForestRegressor(max_depth=6, random_state=0)\n",
        "rf.fit(X_train, y_train)\n",
        "print(\"Variance explanation R^2 = {}\".format(round(rf.score(X, y),2)))\n",
        "\n",
        "# Make predictions using the testing set\n",
        "y_pred = rf.predict(X_test)\n",
        "\n",
        "# The mean squared error\n",
        "print(\"Mean squared error: %.2f\" % mean_squared_error(y_test, y_pred))\n",
        "# The coefficient of determination: 1 is perfect prediction\n",
        "print(\"Coefficient of determination: %.2f\" % r2_score(y_test, y_pred))"
      ]
    },
    {
      "cell_type": "markdown",
      "metadata": {},
      "source": [
        "d) Visualiza cuales son las variables (coeficientes) más importantes en cada uno de los modelos. **(1.25 puntos)**\n",
        "\n"
      ]
    },
    {
      "cell_type": "code",
      "execution_count": 83,
      "metadata": {},
      "outputs": [
        {
          "name": "stdout",
          "output_type": "stream",
          "text": [
            "Coefficients of Linear Regression: \n",
            " [ 4.39578737e-01  9.38637568e-03 -1.09576846e-01  6.35540309e-01\n",
            " -2.82428538e-06 -3.84741305e-03 -4.18880581e-01 -4.31643546e-01]\n",
            "Coefficients of Random Forest: \n",
            " [8.09148505e-01 2.91235508e-02 2.22152694e-02 2.86692028e-05\n",
            " 1.74339072e-03 1.18903396e-01 1.17574332e-02 7.07978536e-03]\n"
          ]
        }
      ],
      "source": [
        "print(\"Coefficients of Linear Regression: \\n\", regr.coef_)\n",
        "\n",
        "print(\"Coefficients of Random Forest: \\n\", rf.feature_importances_)"
      ]
    },
    {
      "cell_type": "markdown",
      "metadata": {},
      "source": [
        "e) Decide a través de las métricas que consideres oportunas, cuál de los dos modelos es mejor, por qué y explica el proceso que has realizado para responder en los puntos anteriores. **(1.25 puntos)**"
      ]
    },
    {
      "cell_type": "markdown",
      "metadata": {},
      "source": [
        "El proceso para los dos modelos es el mismo. He dividido el cojunto de datos en entrenamiento (75%) y en test (25%). Con el conjunto de entrenamiento he hecho un fit del modelo de regresión lineal y del random forest. De esta manera los modelos pueden aprender con conjuntos de datos conociendo cuál es el resultado esperado. Para comprobar la bondad de los modelos se hace una predicción del conjunto de test, pues se trata de datos desconocidos y cuyos resultados ha de predecir sin saber cuánto deben valer. \n",
        "\n",
        "En este caso el modelo seleccionado es el Random Forest, pues muestra las mejores métricas. Su valor de R^2 es del 75% frente al 61% de LR, es decir, explica mayor cantidad de la varianza recogida en el conjunto. Además, el error de las predicciones es menor. Sin embargo, si la profundidad del árbol fuera menor realmente no existiría una gran diferencia entre ambos. Puesto que una profundidad de 6 y el tamaño del conjunto de datos no suponen una carga adicional desproporcionada de cómputo, se escoge el Random Forest."
      ]
    },
    {
      "cell_type": "markdown",
      "metadata": {
        "id": "YhuImkegUE5a"
      },
      "source": [
        "## Ejercicio 3 (4 puntos):\n"
      ]
    },
    {
      "cell_type": "markdown",
      "metadata": {
        "id": "kUZlJzRKU1p0"
      },
      "source": [
        "*Consideremos* el dataset que contiene __The Most Streamed Spotify Songs 2023__ que se encuentra en el respositorio.\n",
        "\n",
        "Información de las variables:\n",
        "\n",
        "- track_name: Name of the song\n",
        "- artist(s)_name: Name of the artist(s) of the song\n",
        "- vartist_count: Number of artists contributing to the song\n",
        "- released_year: Year when the song was released\n",
        "- released_month: Month when the song was released\n",
        "- release_day: Day of the month when the song was released\n",
        "- in_spotify_playlists: Number of Spotify playlists the song is included in\n",
        "- in_spotify_charts: Presence and rank of the song on Spotify charts\n",
        "- streams: Total number of streams on Spotify\n",
        "- in_apple_playlists: Number of Apple Music playlists the song is included in\n",
        "- in_apple_charts: Presence and rank of the song on Apple Music charts\n",
        "- in_deezer_playlists: Number of Deezer playlists the song is included in\n",
        "- in_deezer_charts: Presence and rank of the song on Deezer charts\n",
        "- in_shazam_charts: Presence and rank of the song on Shazam charts\n",
        "- bpm: Beats per minute, a measure of song tempo\n",
        "- key: Key of the song\n",
        "- mode: Mode of the song (major or minor)\n",
        "- danceability_%: Percentage indicating how suitable the song is for dancing\n",
        "- valence_%: Positivity of the song's musical content\n",
        "- energy_%: Perceived energy level of the song\n",
        "- acousticness_%: Amount of acoustic sound in the song\n",
        "- instrumentalness_%: Amount of instrumental content in the song\n",
        "- liveness_%: Presence of live performance elements\n",
        "- speechiness_%: Amount of spoken words in the song\n",
        "\n",
        "Para las respuestas b, c, d, e, f y g es imperativo acompañarlas respuestas con una visualización.\n",
        "\n",
        "a) Lee el fichero en formato dataframe, aplica la función del ejercicio 2.b, elimina NAs y convierte a integer si fuera necesario. **(0.25 puntos)**\n"
      ]
    },
    {
      "cell_type": "code",
      "execution_count": 91,
      "metadata": {},
      "outputs": [
        {
          "data": {
            "text/plain": [
              "track_name              0\n",
              "artist(s)_name          0\n",
              "artist_count            0\n",
              "released_year           0\n",
              "released_month          0\n",
              "released_day            0\n",
              "in_spotify_playlists    0\n",
              "in_spotify_charts       0\n",
              "streams                 0\n",
              "in_apple_playlists      0\n",
              "in_apple_charts         0\n",
              "in_deezer_playlists     0\n",
              "in_deezer_charts        0\n",
              "in_shazam_charts        0\n",
              "bpm                     0\n",
              "key                     0\n",
              "mode                    0\n",
              "danceability_%          0\n",
              "valence_%               0\n",
              "energy_%                0\n",
              "acousticness_%          0\n",
              "instrumentalness_%      0\n",
              "liveness_%              0\n",
              "speechiness_%           0\n",
              "dtype: int64"
            ]
          },
          "execution_count": 91,
          "metadata": {},
          "output_type": "execute_result"
        }
      ],
      "source": [
        "df = pd.read_csv('spotify-2023.csv',encoding='latin-1')\n",
        "df['streams'] = pd.to_numeric(df['streams'], errors='coerce')\n",
        "df['in_deezer_playlists'] = pd.to_numeric(df['in_deezer_playlists'], errors='coerce')\n",
        "df['in_shazam_charts'] = pd.to_numeric(df['in_shazam_charts'], errors='coerce')\n",
        "df = df.dropna()\n",
        "df.isna().sum()"
      ]
    },
    {
      "cell_type": "code",
      "execution_count": 36,
      "metadata": {},
      "outputs": [
        {
          "data": {
            "text/html": [
              "<div>\n",
              "<style scoped>\n",
              "    .dataframe tbody tr th:only-of-type {\n",
              "        vertical-align: middle;\n",
              "    }\n",
              "\n",
              "    .dataframe tbody tr th {\n",
              "        vertical-align: top;\n",
              "    }\n",
              "\n",
              "    .dataframe thead th {\n",
              "        text-align: right;\n",
              "    }\n",
              "</style>\n",
              "<table border=\"1\" class=\"dataframe\">\n",
              "  <thead>\n",
              "    <tr style=\"text-align: right;\">\n",
              "      <th></th>\n",
              "      <th>track_name</th>\n",
              "      <th>artist(s)_name</th>\n",
              "      <th>artist_count</th>\n",
              "      <th>released_year</th>\n",
              "      <th>released_month</th>\n",
              "      <th>released_day</th>\n",
              "      <th>in_spotify_playlists</th>\n",
              "      <th>in_spotify_charts</th>\n",
              "      <th>streams</th>\n",
              "      <th>in_apple_playlists</th>\n",
              "      <th>...</th>\n",
              "      <th>bpm</th>\n",
              "      <th>key</th>\n",
              "      <th>mode</th>\n",
              "      <th>danceability_%</th>\n",
              "      <th>valence_%</th>\n",
              "      <th>energy_%</th>\n",
              "      <th>acousticness_%</th>\n",
              "      <th>instrumentalness_%</th>\n",
              "      <th>liveness_%</th>\n",
              "      <th>speechiness_%</th>\n",
              "    </tr>\n",
              "  </thead>\n",
              "  <tbody>\n",
              "    <tr>\n",
              "      <th>0</th>\n",
              "      <td>Seven (feat. Latto) (Explicit Ver.)</td>\n",
              "      <td>Latto, Jung Kook</td>\n",
              "      <td>2</td>\n",
              "      <td>2023</td>\n",
              "      <td>7</td>\n",
              "      <td>14</td>\n",
              "      <td>553</td>\n",
              "      <td>147</td>\n",
              "      <td>141381703</td>\n",
              "      <td>43</td>\n",
              "      <td>...</td>\n",
              "      <td>125</td>\n",
              "      <td>B</td>\n",
              "      <td>Major</td>\n",
              "      <td>80</td>\n",
              "      <td>89</td>\n",
              "      <td>83</td>\n",
              "      <td>31</td>\n",
              "      <td>0</td>\n",
              "      <td>8</td>\n",
              "      <td>4</td>\n",
              "    </tr>\n",
              "    <tr>\n",
              "      <th>1</th>\n",
              "      <td>LALA</td>\n",
              "      <td>Myke Towers</td>\n",
              "      <td>1</td>\n",
              "      <td>2023</td>\n",
              "      <td>3</td>\n",
              "      <td>23</td>\n",
              "      <td>1474</td>\n",
              "      <td>48</td>\n",
              "      <td>133716286</td>\n",
              "      <td>48</td>\n",
              "      <td>...</td>\n",
              "      <td>92</td>\n",
              "      <td>C#</td>\n",
              "      <td>Major</td>\n",
              "      <td>71</td>\n",
              "      <td>61</td>\n",
              "      <td>74</td>\n",
              "      <td>7</td>\n",
              "      <td>0</td>\n",
              "      <td>10</td>\n",
              "      <td>4</td>\n",
              "    </tr>\n",
              "    <tr>\n",
              "      <th>2</th>\n",
              "      <td>vampire</td>\n",
              "      <td>Olivia Rodrigo</td>\n",
              "      <td>1</td>\n",
              "      <td>2023</td>\n",
              "      <td>6</td>\n",
              "      <td>30</td>\n",
              "      <td>1397</td>\n",
              "      <td>113</td>\n",
              "      <td>140003974</td>\n",
              "      <td>94</td>\n",
              "      <td>...</td>\n",
              "      <td>138</td>\n",
              "      <td>F</td>\n",
              "      <td>Major</td>\n",
              "      <td>51</td>\n",
              "      <td>32</td>\n",
              "      <td>53</td>\n",
              "      <td>17</td>\n",
              "      <td>0</td>\n",
              "      <td>31</td>\n",
              "      <td>6</td>\n",
              "    </tr>\n",
              "    <tr>\n",
              "      <th>3</th>\n",
              "      <td>Cruel Summer</td>\n",
              "      <td>Taylor Swift</td>\n",
              "      <td>1</td>\n",
              "      <td>2019</td>\n",
              "      <td>8</td>\n",
              "      <td>23</td>\n",
              "      <td>7858</td>\n",
              "      <td>100</td>\n",
              "      <td>800840817</td>\n",
              "      <td>116</td>\n",
              "      <td>...</td>\n",
              "      <td>170</td>\n",
              "      <td>A</td>\n",
              "      <td>Major</td>\n",
              "      <td>55</td>\n",
              "      <td>58</td>\n",
              "      <td>72</td>\n",
              "      <td>11</td>\n",
              "      <td>0</td>\n",
              "      <td>11</td>\n",
              "      <td>15</td>\n",
              "    </tr>\n",
              "    <tr>\n",
              "      <th>4</th>\n",
              "      <td>WHERE SHE GOES</td>\n",
              "      <td>Bad Bunny</td>\n",
              "      <td>1</td>\n",
              "      <td>2023</td>\n",
              "      <td>5</td>\n",
              "      <td>18</td>\n",
              "      <td>3133</td>\n",
              "      <td>50</td>\n",
              "      <td>303236322</td>\n",
              "      <td>84</td>\n",
              "      <td>...</td>\n",
              "      <td>144</td>\n",
              "      <td>A</td>\n",
              "      <td>Minor</td>\n",
              "      <td>65</td>\n",
              "      <td>23</td>\n",
              "      <td>80</td>\n",
              "      <td>14</td>\n",
              "      <td>63</td>\n",
              "      <td>11</td>\n",
              "      <td>6</td>\n",
              "    </tr>\n",
              "  </tbody>\n",
              "</table>\n",
              "<p>5 rows × 24 columns</p>\n",
              "</div>"
            ],
            "text/plain": [
              "                            track_name    artist(s)_name  artist_count  \\\n",
              "0  Seven (feat. Latto) (Explicit Ver.)  Latto, Jung Kook             2   \n",
              "1                                 LALA       Myke Towers             1   \n",
              "2                              vampire    Olivia Rodrigo             1   \n",
              "3                         Cruel Summer      Taylor Swift             1   \n",
              "4                       WHERE SHE GOES         Bad Bunny             1   \n",
              "\n",
              "   released_year  released_month  released_day  in_spotify_playlists  \\\n",
              "0           2023               7            14                   553   \n",
              "1           2023               3            23                  1474   \n",
              "2           2023               6            30                  1397   \n",
              "3           2019               8            23                  7858   \n",
              "4           2023               5            18                  3133   \n",
              "\n",
              "   in_spotify_charts    streams  in_apple_playlists  ...  bpm key   mode  \\\n",
              "0                147  141381703                  43  ...  125   B  Major   \n",
              "1                 48  133716286                  48  ...   92  C#  Major   \n",
              "2                113  140003974                  94  ...  138   F  Major   \n",
              "3                100  800840817                 116  ...  170   A  Major   \n",
              "4                 50  303236322                  84  ...  144   A  Minor   \n",
              "\n",
              "  danceability_%  valence_% energy_% acousticness_%  instrumentalness_%  \\\n",
              "0             80         89       83             31                   0   \n",
              "1             71         61       74              7                   0   \n",
              "2             51         32       53             17                   0   \n",
              "3             55         58       72             11                   0   \n",
              "4             65         23       80             14                  63   \n",
              "\n",
              "   liveness_%  speechiness_%  \n",
              "0           8              4  \n",
              "1          10              4  \n",
              "2          31              6  \n",
              "3          11             15  \n",
              "4          11              6  \n",
              "\n",
              "[5 rows x 24 columns]"
            ]
          },
          "execution_count": 36,
          "metadata": {},
          "output_type": "execute_result"
        }
      ],
      "source": [
        "df.head()"
      ]
    },
    {
      "cell_type": "code",
      "execution_count": 45,
      "metadata": {},
      "outputs": [
        {
          "data": {
            "text/plain": [
              "track_name               object\n",
              "artist(s)_name           object\n",
              "artist_count              int64\n",
              "released_year             int64\n",
              "released_month            int64\n",
              "released_day              int64\n",
              "in_spotify_playlists      int64\n",
              "in_spotify_charts         int64\n",
              "streams                 float64\n",
              "in_apple_playlists        int64\n",
              "in_apple_charts           int64\n",
              "in_deezer_playlists      object\n",
              "in_deezer_charts          int64\n",
              "in_shazam_charts         object\n",
              "bpm                       int64\n",
              "key                      object\n",
              "mode                     object\n",
              "danceability_%            int64\n",
              "valence_%                 int64\n",
              "energy_%                  int64\n",
              "acousticness_%            int64\n",
              "instrumentalness_%        int64\n",
              "liveness_%                int64\n",
              "speechiness_%             int64\n",
              "dtype: object"
            ]
          },
          "execution_count": 45,
          "metadata": {},
          "output_type": "execute_result"
        }
      ],
      "source": [
        "df.dtypes"
      ]
    },
    {
      "cell_type": "markdown",
      "metadata": {},
      "source": [
        "\n",
        "b) ¿Cuántos artistas únicos hay? **(0.25 puntos)**"
      ]
    },
    {
      "cell_type": "code",
      "execution_count": 9,
      "metadata": {},
      "outputs": [
        {
          "name": "stdout",
          "output_type": "stream",
          "text": [
            "El número total de artistas únicos es 571\n"
          ]
        }
      ],
      "source": [
        "print('El número total de artistas únicos es ' + str(len(np.unique(df['artist(s)_name']))))"
      ]
    },
    {
      "cell_type": "markdown",
      "metadata": {},
      "source": [
        "c) ¿Cuál es la distribución de reproducciones? **(0.5 puntos)**"
      ]
    },
    {
      "cell_type": "code",
      "execution_count": 51,
      "metadata": {},
      "outputs": [
        {
          "name": "stderr",
          "output_type": "stream",
          "text": [
            "C:\\Users\\Elena\\AppData\\Local\\Temp\\ipykernel_3492\\2379130880.py:3: UserWarning: Ignoring `palette` because no `hue` variable has been assigned.\n",
            "  sns.histplot(data=df, x=\"streams\", palette=\"Dark2\", element='step')\n"
          ]
        },
        {
          "data": {
            "image/png": "[encoded data removed]",
            "text/plain": [
              "<Figure size 1500x800 with 1 Axes>"
            ]
          },
          "metadata": {},
          "output_type": "display_data"
        }
      ],
      "source": [
        "# Histograma por clases\n",
        "plt.figure(figsize = (15,8))\n",
        "sns.histplot(data=df, x=\"streams\", palette=\"Dark2\", element='step')\n",
        "plt.title('Distribución de reproducciones en spotify')\n",
        "plt.show()\n"
      ]
    },
    {
      "cell_type": "markdown",
      "metadata": {},
      "source": [
        "La distribucion de las reproducciones es de tipo log-normal. Es decir, que existe una gran concentración de reproducciones en torno a 250.000.000. El número de canciones con más reproducciones es significantemente menor."
      ]
    },
    {
      "cell_type": "markdown",
      "metadata": {},
      "source": [
        "d) ¿Existe una diferencia signitificativa en las reproducciones entre las canciones de un solo artista y las de más de uno? **(0.5 puntos)**"
      ]
    },
    {
      "cell_type": "code",
      "execution_count": 55,
      "metadata": {},
      "outputs": [
        {
          "data": {
            "image/png": "[encoded data removed]",
            "text/plain": [
              "<Figure size 1500x800 with 1 Axes>"
            ]
          },
          "metadata": {},
          "output_type": "display_data"
        }
      ],
      "source": [
        "# Histograma por clases\n",
        "plt.figure(figsize = (15,8))\n",
        "sns.histplot(data=df, x=\"streams\", hue='artist_count', palette=\"Dark2\", element='step')\n",
        "plt.title('Distribución de reproducciones en  diferenciando por cantidad de artistas partícipes en cada canción')\n",
        "plt.show()"
      ]
    },
    {
      "cell_type": "markdown",
      "metadata": {},
      "source": [
        "En el histograma se aprecia cómo las canciones de un único artista son mucho más frecuentes que las canciones con varios artistas. Si bien la distribución de reproducciones es análoga estas son mucho menores cuantos más artistas participan en la canción."
      ]
    },
    {
      "cell_type": "markdown",
      "metadata": {},
      "source": [
        "e) ¿Cuáles son las propiedades de una canción que mejor correlan con el número de reproducciones de una canción? **(0.5 puntos)**"
      ]
    },
    {
      "cell_type": "code",
      "execution_count": 111,
      "metadata": {},
      "outputs": [
        {
          "data": {
            "text/plain": [
              "streams                 1.000000\n",
              "in_spotify_playlists    0.759829\n",
              "in_deezer_playlists     0.713119\n",
              "in_apple_playlists      0.668079\n",
              "in_deezer_charts        0.272716\n",
              "in_apple_charts         0.241121\n",
              "in_spotify_charts       0.231227\n",
              "released_month          0.048771\n",
              "released_day            0.035451\n",
              "in_shazam_charts        0.034057\n",
              "bpm                     0.018867\n",
              "acousticness_%          0.016240\n",
              "instrumentalness_%      0.006287\n",
              "liveness_%             -0.035099\n",
              "energy_%               -0.063134\n",
              "valence_%              -0.077980\n",
              "danceability_%         -0.079762\n",
              "speechiness_%          -0.085712\n",
              "artist_count           -0.092410\n",
              "released_year          -0.134154\n",
              "Name: streams, dtype: float64"
            ]
          },
          "execution_count": 111,
          "metadata": {},
          "output_type": "execute_result"
        }
      ],
      "source": [
        "corr = df.select_dtypes('number').corr()['streams']\n",
        "corr.sort_values(ascending=False)"
      ]
    },
    {
      "cell_type": "markdown",
      "metadata": {},
      "source": [
        "Lo más importante es que la canción se encuentre en las plataformas y los oyentes tengan fácil acceso a ellas. Las plataformas spotify, deezer y apple en ese orden afectan a la cantidad de reproduccciones que reciben. Por lo tanto, para mayor difusión spotify es la plataforma idónea. "
      ]
    },
    {
      "cell_type": "markdown",
      "metadata": {},
      "source": [
        "f) ¿Cuáles son las variables que mejor predicen las canciones que están por encima el percentil 50? **(1 puntos)**\n",
        "\n",
        "*Nota: Crea una variable binaria (Hit/No Hit) en base a 3.c, crea una regresión logística y visualiza sus coeficientes.*"
      ]
    },
    {
      "cell_type": "code",
      "execution_count": 118,
      "metadata": {},
      "outputs": [],
      "source": [
        "from sklearn.linear_model import LogisticRegression\n",
        "\n",
        "\n",
        "df['hit'] =  np.where(df['streams'] >= df[\"streams\"].quantile(0.5), 1, 0)\n",
        "datos = df.select_dtypes('number')\n",
        "X = datos.loc[:, datos.columns != 'hit']\n",
        "y = df['hit']\n",
        "\n",
        "X_train, X_test, y_train, y_test = train_test_split(X, y, test_size = 0.25, random_state = 123)\n"
      ]
    },
    {
      "cell_type": "code",
      "execution_count": 124,
      "metadata": {},
      "outputs": [
        {
          "name": "stdout",
          "output_type": "stream",
          "text": [
            "Classification report\n",
            "              precision    recall  f1-score   support\n",
            "\n",
            "         hit       1.00      1.00      1.00        87\n",
            "      no hit       1.00      1.00      1.00       100\n",
            "\n",
            "    accuracy                           1.00       187\n",
            "   macro avg       1.00      1.00      1.00       187\n",
            "weighted avg       1.00      1.00      1.00       187\n",
            "\n",
            "Confusion matrix\n",
            "[[ 87   0]\n",
            " [  0 100]]\n",
            "Coefficients\n",
            "[[ 1.59329870e-04 -5.62277101e-01 -1.70249152e-03 -5.74054526e-03\n",
            "  -2.54592700e-03 -2.07625748e-03  4.70765180e-06  3.00329052e-02\n",
            "  -1.34632803e-02  7.73729876e-02 -3.26958617e-04 -1.21514541e-02\n",
            "  -3.32884909e-02 -8.60659787e-03 -4.48060443e-03 -5.46510848e-03\n",
            "  -1.32304314e-02 -2.88077356e-04 -1.01703992e-02 -3.56819562e-03]] [-0.00027964]\n"
          ]
        }
      ],
      "source": [
        "# Regresión logística\n",
        "clf_log = LogisticRegression(max_iter=10000, tol=0.1)\n",
        "clf_log.fit(X_train, y_train)\n",
        "\n",
        "predictions = clf_log.predict(X_test)\n",
        "\n",
        "print(\"Classification report\")\n",
        "print(classification_report(y_test, predictions, target_names=['hit','no hit']))\n",
        "\n",
        "print(\"Confusion matrix\")\n",
        "print(confusion_matrix(y_test, predictions))\n",
        "\n",
        "print('Coefficients')\n",
        "print(clf_log.coef_, clf_log.intercept_)"
      ]
    },
    {
      "cell_type": "markdown",
      "metadata": {},
      "source": [
        "g) Agrupa los 4 gráficos realizados en uno solo y haz una recomendación a un sello discográfico para producir un nuevo hit. **(1 puntos)**"
      ]
    },
    {
      "cell_type": "code",
      "execution_count": 132,
      "metadata": {},
      "outputs": [
        {
          "name": "stderr",
          "output_type": "stream",
          "text": [
            "C:\\Users\\Elena\\AppData\\Local\\Temp\\ipykernel_3492\\2873624680.py:5: UserWarning: Ignoring `palette` because no `hue` variable has been assigned.\n",
            "  sns.histplot(data=df, x=\"streams\", palette=\"Dark2\", element='step')\n"
          ]
        },
        {
          "data": {
            "image/png": "[encoded data removed]",
            "text/plain": [
              "<Figure size 1600x1600 with 1 Axes>"
            ]
          },
          "metadata": {},
          "output_type": "display_data"
        },
        {
          "data": {
            "image/png": "[encoded data removed]",
            "text/plain": [
              "<Figure size 640x480 with 1 Axes>"
            ]
          },
          "metadata": {},
          "output_type": "display_data"
        },
        {
          "data": {
            "image/png": "[encoded data removed]",
            "text/plain": [
              "<Figure size 640x480 with 1 Axes>"
            ]
          },
          "metadata": {},
          "output_type": "display_data"
        },
        {
          "data": {
            "image/png": "[encoded data removed]",
            "text/plain": [
              "<Figure size 640x480 with 1 Axes>"
            ]
          },
          "metadata": {},
          "output_type": "display_data"
        }
      ],
      "source": [
        "plt.figure(figsize = (16,16))\n",
        "\n",
        "# Primera figura (arriba izquierda)\n",
        "plt.subplot(2,2,1) # Numero de filas, Numero de columnas, Numero de figura\n",
        "sns.histplot(data=df, x=\"streams\", palette=\"Dark2\", element='step')\n",
        "plt.title('Distribución de reproducciones en spotify')\n",
        "plt.show()\n",
        "\n",
        "plt.subplot(2,2,2)\n",
        "# Histograma por clases\n",
        "sns.histplot(data=df, x=\"streams\", hue='artist_count', palette=\"Dark2\", element='step')\n",
        "plt.title('Distribución rep')\n",
        "plt.show()\n",
        "\n",
        "plt.subplot(2,2,3)\n",
        "# Histograma por clases\n",
        "sns.histplot(data=df, x=\"streams\", hue='artist_count', palette=\"Dark2\", element='step')\n",
        "plt.title('Distribución de re')\n",
        "plt.show()\n",
        "\n",
        "plt.subplot(2,2,4)\n",
        "# Histograma por clases\n",
        "sns.histplot(data=df, x=\"streams\", hue='artist_count', palette=\"Dark2\", element='step')\n",
        "plt.title('Distribución de re')\n",
        "plt.show()"
      ]
    }
  ],
  "metadata": {
    "colab": {
      "provenance": []
    },
    "kernelspec": {
      "display_name": "Python 3",
      "name": "python3"
    },
    "language_info": {
      "codemirror_mode": {
        "name": "ipython",
        "version": 3
      },
      "file_extension": ".py",
      "mimetype": "text/x-python",
      "name": "python",
      "nbconvert_exporter": "python",
      "pygments_lexer": "ipython3",
      "version": "3.11.9"
    }
  },
  "nbformat": 4,
  "nbformat_minor": 0
}
